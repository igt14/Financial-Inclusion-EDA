{
  "nbformat": 4,
  "nbformat_minor": 0,
  "metadata": {
    "colab": {
      "name": "Moringa_Data_Science_Core_W2_Independent_Project_2021_09_Ian_Gathumbi_Python_Notebook",
      "provenance": [],
      "collapsed_sections": [],
      "authorship_tag": "ABX9TyNmXk/Gb4ZqbC4lh3fGxSPM",
      "include_colab_link": true
    },
    "kernelspec": {
      "name": "python3",
      "display_name": "Python 3"
    },
    "language_info": {
      "name": "python"
    }
  },
  "cells": [
    {
      "cell_type": "markdown",
      "metadata": {
        "id": "view-in-github",
        "colab_type": "text"
      },
      "source": [
        "<a href=\"https://colab.research.google.com/github/igt14/Financial-Inclusion-EDA/blob/main/Moringa_Data_Science_Core_W2_Independent_Project_2021_09_Ian_Gathumbi_Python_Notebook.ipynb\" target=\"_parent\"><img src=\"https://colab.research.google.com/assets/colab-badge.svg\" alt=\"Open In Colab\"/></a>"
      ]
    },
    {
      "cell_type": "markdown",
      "metadata": {
        "id": "VT1dlQbfY3XL"
      },
      "source": [
        "# 1. Defining the question\n"
      ]
    },
    {
      "cell_type": "markdown",
      "metadata": {
        "id": "b82UgbGuZkqB"
      },
      "source": [
        "a.) Specifying the question\n",
        "\n",
        "What are the factors that can determine which individuals are most likely to have or use a bank account?\n"
      ]
    },
    {
      "cell_type": "markdown",
      "metadata": {
        "id": "2T9G6GIgaY4h"
      },
      "source": [
        "b.)  Defining the Metric for Success\n",
        "\n",
        "For bivariate analysis involving bank account access vs a numerical variable, passing the t test\n",
        "\n",
        "For multi-variate analysis, an algorithm with an accuracy greater than 80%"
      ]
    },
    {
      "cell_type": "markdown",
      "metadata": {
        "id": "SzeBoqGuaodN"
      },
      "source": [
        "c.) Understanding the context\n",
        "\n",
        "Financial Inclusion remains one of the main obstacles to economic and human development in Africa. For example, across Kenya, Rwanda, Tanzania, and Uganda only 9.1 million adults (or 13.9% of the adult population) have access to or use a commercial bank account.\n",
        "\n",
        "Traditionally, access to bank accounts has been regarded as an indicator of financial inclusion. Despite the proliferation of mobile money in Africa and the growth of innovative fintech solutions, banks still play a pivotal role in facilitating access to financial services. Access to bank accounts enables households to save and facilitate payments while also helping businesses build up their credit-worthiness and improve their access to other financial services. Therefore, access to bank accounts is an essential contributor to long-term economic growth."
      ]
    },
    {
      "cell_type": "markdown",
      "metadata": {
        "id": "vmYh1h0da35t"
      },
      "source": [
        "d.)  Recording the Experimental Design"
      ]
    },
    {
      "cell_type": "markdown",
      "metadata": {
        "id": "OBwvKZacbFsg"
      },
      "source": [
        "e.) Selecting the data\n",
        "The main dataset contains demographic information and what financial services are used by individuals across East Africa. This data was extracted from various Finscope surveys ranging from 2016 to 2018, and more information about these surveys can be found here:\n",
        "\n",
        "* FinAccess Kenya 2018 : https://fsdkenya.org/publication/finaccess2019/\n",
        "* Finscope Rwanda 2016 : http://www.statistics.gov.rw/publication/finscope-rwanda-2016\n",
        "* Finscope Tanzania 2017 : http://www.fsdt.or.tz/finscope/\n",
        "* Finscope Uganda 2018 : http://fsduganda.or.ug/finscope-2018-survey-report/\n",
        "\n",
        "Dataset Files:\n",
        "\n",
        "* Variable Definitions: http://bit.ly/VariableDefinitions\n",
        "* Dataset: http://bit.ly/FinancialDataset"
      ]
    },
    {
      "cell_type": "markdown",
      "metadata": {
        "id": "k2JmyP4ecRTW"
      },
      "source": [
        "# 2. Loading our data"
      ]
    },
    {
      "cell_type": "code",
      "metadata": {
        "id": "vOeKpNTXdDos"
      },
      "source": [
        "# Importing the libraries that we will need\n",
        "import pandas as pd\n",
        "import numpy as np\n",
        "import matplotlib.pyplot as plt\n",
        "import seaborn as sns"
      ],
      "execution_count": 1,
      "outputs": []
    },
    {
      "cell_type": "code",
      "metadata": {
        "id": "gPGX7MTSdWiB"
      },
      "source": [
        "# Loading the Data from the source \n",
        "# Dataset url = http://bit.ly/FinancialDataset\n",
        "\n",
        "fin = pd.read_csv('http://bit.ly/FinancialDataset')"
      ],
      "execution_count": 2,
      "outputs": []
    },
    {
      "cell_type": "markdown",
      "metadata": {
        "id": "pE6Mde3neCE4"
      },
      "source": [
        "# 3. Checking the data"
      ]
    },
    {
      "cell_type": "code",
      "metadata": {
        "colab": {
          "base_uri": "https://localhost:8080/"
        },
        "id": "nCSXVpE6eHHO",
        "outputId": "1c6daf25-1659-436a-844a-900f71963f19"
      },
      "source": [
        "# Determining the no. of records in our dataset\n",
        "fin.shape"
      ],
      "execution_count": 3,
      "outputs": [
        {
          "output_type": "execute_result",
          "data": {
            "text/plain": [
              "(23524, 13)"
            ]
          },
          "metadata": {},
          "execution_count": 3
        }
      ]
    },
    {
      "cell_type": "code",
      "metadata": {
        "colab": {
          "base_uri": "https://localhost:8080/"
        },
        "id": "g9kk-MVPfKWj",
        "outputId": "105aa069-3b83-4bb9-e24f-e675c8adf4fe"
      },
      "source": [
        "# Checking whether each column has an appropriate datatype\n",
        "fin.dtypes"
      ],
      "execution_count": 4,
      "outputs": [
        {
          "output_type": "execute_result",
          "data": {
            "text/plain": [
              "country                    object\n",
              "year                        int64\n",
              "uniqueid                   object\n",
              "Has a Bank account         object\n",
              "Type of Location           object\n",
              "Cell Phone Access          object\n",
              "household_size            float64\n",
              "Respondent Age            float64\n",
              "gender_of_respondent       object\n",
              "The relathip with head     object\n",
              "marital_status             object\n",
              "Level of Educuation        object\n",
              "Type of Job                object\n",
              "dtype: object"
            ]
          },
          "metadata": {},
          "execution_count": 4
        }
      ]
    },
    {
      "cell_type": "code",
      "metadata": {
        "colab": {
          "base_uri": "https://localhost:8080/",
          "height": 377
        },
        "id": "_Lkhtf__eTBs",
        "outputId": "3f149743-1e13-49d2-d81f-c33a5b9eed53"
      },
      "source": [
        "# Previewing the top of our dataset\n",
        "fin.head()"
      ],
      "execution_count": 5,
      "outputs": [
        {
          "output_type": "execute_result",
          "data": {
            "text/html": [
              "<div>\n",
              "<style scoped>\n",
              "    .dataframe tbody tr th:only-of-type {\n",
              "        vertical-align: middle;\n",
              "    }\n",
              "\n",
              "    .dataframe tbody tr th {\n",
              "        vertical-align: top;\n",
              "    }\n",
              "\n",
              "    .dataframe thead th {\n",
              "        text-align: right;\n",
              "    }\n",
              "</style>\n",
              "<table border=\"1\" class=\"dataframe\">\n",
              "  <thead>\n",
              "    <tr style=\"text-align: right;\">\n",
              "      <th></th>\n",
              "      <th>country</th>\n",
              "      <th>year</th>\n",
              "      <th>uniqueid</th>\n",
              "      <th>Has a Bank account</th>\n",
              "      <th>Type of Location</th>\n",
              "      <th>Cell Phone Access</th>\n",
              "      <th>household_size</th>\n",
              "      <th>Respondent Age</th>\n",
              "      <th>gender_of_respondent</th>\n",
              "      <th>The relathip with head</th>\n",
              "      <th>marital_status</th>\n",
              "      <th>Level of Educuation</th>\n",
              "      <th>Type of Job</th>\n",
              "    </tr>\n",
              "  </thead>\n",
              "  <tbody>\n",
              "    <tr>\n",
              "      <th>0</th>\n",
              "      <td>Kenya</td>\n",
              "      <td>2018</td>\n",
              "      <td>uniqueid_1</td>\n",
              "      <td>Yes</td>\n",
              "      <td>Rural</td>\n",
              "      <td>Yes</td>\n",
              "      <td>3.0</td>\n",
              "      <td>24.0</td>\n",
              "      <td>Female</td>\n",
              "      <td>Spouse</td>\n",
              "      <td>Married/Living together</td>\n",
              "      <td>Secondary education</td>\n",
              "      <td>Self employed</td>\n",
              "    </tr>\n",
              "    <tr>\n",
              "      <th>1</th>\n",
              "      <td>Kenya</td>\n",
              "      <td>2018</td>\n",
              "      <td>uniqueid_2</td>\n",
              "      <td>No</td>\n",
              "      <td>Rural</td>\n",
              "      <td>No</td>\n",
              "      <td>5.0</td>\n",
              "      <td>70.0</td>\n",
              "      <td>Female</td>\n",
              "      <td>Head of Household</td>\n",
              "      <td>Widowed</td>\n",
              "      <td>No formal education</td>\n",
              "      <td>Government Dependent</td>\n",
              "    </tr>\n",
              "    <tr>\n",
              "      <th>2</th>\n",
              "      <td>Kenya</td>\n",
              "      <td>2018</td>\n",
              "      <td>uniqueid_3</td>\n",
              "      <td>Yes</td>\n",
              "      <td>Urban</td>\n",
              "      <td>Yes</td>\n",
              "      <td>5.0</td>\n",
              "      <td>26.0</td>\n",
              "      <td>Male</td>\n",
              "      <td>Other relative</td>\n",
              "      <td>Single/Never Married</td>\n",
              "      <td>Vocational/Specialised training</td>\n",
              "      <td>Self employed</td>\n",
              "    </tr>\n",
              "    <tr>\n",
              "      <th>3</th>\n",
              "      <td>Kenya</td>\n",
              "      <td>2018</td>\n",
              "      <td>uniqueid_4</td>\n",
              "      <td>No</td>\n",
              "      <td>Rural</td>\n",
              "      <td>Yes</td>\n",
              "      <td>5.0</td>\n",
              "      <td>34.0</td>\n",
              "      <td>Female</td>\n",
              "      <td>Head of Household</td>\n",
              "      <td>Married/Living together</td>\n",
              "      <td>Primary education</td>\n",
              "      <td>Formally employed Private</td>\n",
              "    </tr>\n",
              "    <tr>\n",
              "      <th>4</th>\n",
              "      <td>Kenya</td>\n",
              "      <td>2018</td>\n",
              "      <td>uniqueid_5</td>\n",
              "      <td>No</td>\n",
              "      <td>Urban</td>\n",
              "      <td>No</td>\n",
              "      <td>8.0</td>\n",
              "      <td>26.0</td>\n",
              "      <td>Male</td>\n",
              "      <td>Child</td>\n",
              "      <td>Single/Never Married</td>\n",
              "      <td>Primary education</td>\n",
              "      <td>Informally employed</td>\n",
              "    </tr>\n",
              "  </tbody>\n",
              "</table>\n",
              "</div>"
            ],
            "text/plain": [
              "  country  year  ...              Level of Educuation                Type of Job\n",
              "0   Kenya  2018  ...              Secondary education              Self employed\n",
              "1   Kenya  2018  ...              No formal education       Government Dependent\n",
              "2   Kenya  2018  ...  Vocational/Specialised training              Self employed\n",
              "3   Kenya  2018  ...                Primary education  Formally employed Private\n",
              "4   Kenya  2018  ...                Primary education        Informally employed\n",
              "\n",
              "[5 rows x 13 columns]"
            ]
          },
          "metadata": {},
          "execution_count": 5
        }
      ]
    },
    {
      "cell_type": "code",
      "metadata": {
        "colab": {
          "base_uri": "https://localhost:8080/",
          "height": 340
        },
        "id": "x-TDXNPGe3hQ",
        "outputId": "925ff524-da36-4217-bf0f-a0194cbe1466"
      },
      "source": [
        "# Previewing the bottom of our datasest\n",
        "fin.tail()"
      ],
      "execution_count": 6,
      "outputs": [
        {
          "output_type": "execute_result",
          "data": {
            "text/html": [
              "<div>\n",
              "<style scoped>\n",
              "    .dataframe tbody tr th:only-of-type {\n",
              "        vertical-align: middle;\n",
              "    }\n",
              "\n",
              "    .dataframe tbody tr th {\n",
              "        vertical-align: top;\n",
              "    }\n",
              "\n",
              "    .dataframe thead th {\n",
              "        text-align: right;\n",
              "    }\n",
              "</style>\n",
              "<table border=\"1\" class=\"dataframe\">\n",
              "  <thead>\n",
              "    <tr style=\"text-align: right;\">\n",
              "      <th></th>\n",
              "      <th>country</th>\n",
              "      <th>year</th>\n",
              "      <th>uniqueid</th>\n",
              "      <th>Has a Bank account</th>\n",
              "      <th>Type of Location</th>\n",
              "      <th>Cell Phone Access</th>\n",
              "      <th>household_size</th>\n",
              "      <th>Respondent Age</th>\n",
              "      <th>gender_of_respondent</th>\n",
              "      <th>The relathip with head</th>\n",
              "      <th>marital_status</th>\n",
              "      <th>Level of Educuation</th>\n",
              "      <th>Type of Job</th>\n",
              "    </tr>\n",
              "  </thead>\n",
              "  <tbody>\n",
              "    <tr>\n",
              "      <th>23519</th>\n",
              "      <td>Uganda</td>\n",
              "      <td>2018</td>\n",
              "      <td>uniqueid_2113</td>\n",
              "      <td>No</td>\n",
              "      <td>Rural</td>\n",
              "      <td>Yes</td>\n",
              "      <td>4.0</td>\n",
              "      <td>48.0</td>\n",
              "      <td>Female</td>\n",
              "      <td>Head of Household</td>\n",
              "      <td>Divorced/Seperated</td>\n",
              "      <td>No formal education</td>\n",
              "      <td>Other Income</td>\n",
              "    </tr>\n",
              "    <tr>\n",
              "      <th>23520</th>\n",
              "      <td>Uganda</td>\n",
              "      <td>2018</td>\n",
              "      <td>uniqueid_2114</td>\n",
              "      <td>No</td>\n",
              "      <td>Rural</td>\n",
              "      <td>Yes</td>\n",
              "      <td>2.0</td>\n",
              "      <td>27.0</td>\n",
              "      <td>Female</td>\n",
              "      <td>Head of Household</td>\n",
              "      <td>Single/Never Married</td>\n",
              "      <td>Secondary education</td>\n",
              "      <td>Other Income</td>\n",
              "    </tr>\n",
              "    <tr>\n",
              "      <th>23521</th>\n",
              "      <td>Uganda</td>\n",
              "      <td>2018</td>\n",
              "      <td>uniqueid_2115</td>\n",
              "      <td>No</td>\n",
              "      <td>Rural</td>\n",
              "      <td>Yes</td>\n",
              "      <td>5.0</td>\n",
              "      <td>27.0</td>\n",
              "      <td>Female</td>\n",
              "      <td>Parent</td>\n",
              "      <td>Widowed</td>\n",
              "      <td>Primary education</td>\n",
              "      <td>Other Income</td>\n",
              "    </tr>\n",
              "    <tr>\n",
              "      <th>23522</th>\n",
              "      <td>Uganda</td>\n",
              "      <td>2018</td>\n",
              "      <td>uniqueid_2116</td>\n",
              "      <td>No</td>\n",
              "      <td>Urban</td>\n",
              "      <td>Yes</td>\n",
              "      <td>7.0</td>\n",
              "      <td>30.0</td>\n",
              "      <td>Female</td>\n",
              "      <td>Parent</td>\n",
              "      <td>Divorced/Seperated</td>\n",
              "      <td>Secondary education</td>\n",
              "      <td>Self employed</td>\n",
              "    </tr>\n",
              "    <tr>\n",
              "      <th>23523</th>\n",
              "      <td>Uganda</td>\n",
              "      <td>2018</td>\n",
              "      <td>uniqueid_2117</td>\n",
              "      <td>No</td>\n",
              "      <td>Rural</td>\n",
              "      <td>Yes</td>\n",
              "      <td>10.0</td>\n",
              "      <td>20.0</td>\n",
              "      <td>Male</td>\n",
              "      <td>Child</td>\n",
              "      <td>Single/Never Married</td>\n",
              "      <td>Secondary education</td>\n",
              "      <td>No Income</td>\n",
              "    </tr>\n",
              "  </tbody>\n",
              "</table>\n",
              "</div>"
            ],
            "text/plain": [
              "      country  year  ...  Level of Educuation    Type of Job\n",
              "23519  Uganda  2018  ...  No formal education   Other Income\n",
              "23520  Uganda  2018  ...  Secondary education   Other Income\n",
              "23521  Uganda  2018  ...    Primary education   Other Income\n",
              "23522  Uganda  2018  ...  Secondary education  Self employed\n",
              "23523  Uganda  2018  ...  Secondary education      No Income\n",
              "\n",
              "[5 rows x 13 columns]"
            ]
          },
          "metadata": {},
          "execution_count": 6
        }
      ]
    },
    {
      "cell_type": "markdown",
      "metadata": {
        "id": "jGGwbwNgflkt"
      },
      "source": [
        "# 4. Cleaning the data"
      ]
    },
    {
      "cell_type": "markdown",
      "metadata": {
        "id": "cdIMcZs05h0j"
      },
      "source": [
        "a.) Dealing with anomalies/outliers"
      ]
    },
    {
      "cell_type": "code",
      "metadata": {
        "colab": {
          "base_uri": "https://localhost:8080/"
        },
        "id": "okdRnU2BgRan",
        "outputId": "8e89d6e2-c146-45d7-b6e2-1ed385ba587f"
      },
      "source": [
        "# The countries in our dataset should be [Kenya, Rwanda, Tanzania, Uganda]\n",
        "fin['country'].unique()\n",
        "\n",
        "# They are ok"
      ],
      "execution_count": 7,
      "outputs": [
        {
          "output_type": "execute_result",
          "data": {
            "text/plain": [
              "array(['Kenya', 'Rwanda', 'Tanzania', nan, 'Uganda'], dtype=object)"
            ]
          },
          "metadata": {},
          "execution_count": 7
        }
      ]
    },
    {
      "cell_type": "code",
      "metadata": {
        "colab": {
          "base_uri": "https://localhost:8080/"
        },
        "id": "lNfFRhxyhzFi",
        "outputId": "0695b5f3-b78a-4563-9439-8e2354a70337"
      },
      "source": [
        "# The years in our dataset should be [2018, 2017, 2016]\n",
        "fin['year'].unique()"
      ],
      "execution_count": 8,
      "outputs": [
        {
          "output_type": "execute_result",
          "data": {
            "text/plain": [
              "array([2018, 2029, 2056, 2016, 2039, 2017])"
            ]
          },
          "metadata": {},
          "execution_count": 8
        }
      ]
    },
    {
      "cell_type": "code",
      "metadata": {
        "colab": {
          "base_uri": "https://localhost:8080/",
          "height": 244
        },
        "id": "_rcDrx0DimTv",
        "outputId": "f64250e4-9f10-41e8-e251-b8977dd98368"
      },
      "source": [
        "# There are unexpected years 2029, 2056 amd 2039 \n",
        "fin[(fin['year'] == 2029) | (fin['year'] == 2056) | (fin['year'] == 2039)]"
      ],
      "execution_count": 9,
      "outputs": [
        {
          "output_type": "execute_result",
          "data": {
            "text/html": [
              "<div>\n",
              "<style scoped>\n",
              "    .dataframe tbody tr th:only-of-type {\n",
              "        vertical-align: middle;\n",
              "    }\n",
              "\n",
              "    .dataframe tbody tr th {\n",
              "        vertical-align: top;\n",
              "    }\n",
              "\n",
              "    .dataframe thead th {\n",
              "        text-align: right;\n",
              "    }\n",
              "</style>\n",
              "<table border=\"1\" class=\"dataframe\">\n",
              "  <thead>\n",
              "    <tr style=\"text-align: right;\">\n",
              "      <th></th>\n",
              "      <th>country</th>\n",
              "      <th>year</th>\n",
              "      <th>uniqueid</th>\n",
              "      <th>Has a Bank account</th>\n",
              "      <th>Type of Location</th>\n",
              "      <th>Cell Phone Access</th>\n",
              "      <th>household_size</th>\n",
              "      <th>Respondent Age</th>\n",
              "      <th>gender_of_respondent</th>\n",
              "      <th>The relathip with head</th>\n",
              "      <th>marital_status</th>\n",
              "      <th>Level of Educuation</th>\n",
              "      <th>Type of Job</th>\n",
              "    </tr>\n",
              "  </thead>\n",
              "  <tbody>\n",
              "    <tr>\n",
              "      <th>213</th>\n",
              "      <td>Kenya</td>\n",
              "      <td>2029</td>\n",
              "      <td>uniqueid_214</td>\n",
              "      <td>No</td>\n",
              "      <td>Urban</td>\n",
              "      <td>Yes</td>\n",
              "      <td>6.0</td>\n",
              "      <td>16.0</td>\n",
              "      <td>Male</td>\n",
              "      <td>Other relative</td>\n",
              "      <td>Single/Never Married</td>\n",
              "      <td>Secondary education</td>\n",
              "      <td>Remittance Dependent</td>\n",
              "    </tr>\n",
              "    <tr>\n",
              "      <th>308</th>\n",
              "      <td>Kenya</td>\n",
              "      <td>2056</td>\n",
              "      <td>uniqueid_309</td>\n",
              "      <td>Yes</td>\n",
              "      <td>Urban</td>\n",
              "      <td>Yes</td>\n",
              "      <td>4.0</td>\n",
              "      <td>40.0</td>\n",
              "      <td>Male</td>\n",
              "      <td>Head of Household</td>\n",
              "      <td>Married/Living together</td>\n",
              "      <td>Tertiary education</td>\n",
              "      <td>Formally employed Private</td>\n",
              "    </tr>\n",
              "    <tr>\n",
              "      <th>7014</th>\n",
              "      <td>Rwanda</td>\n",
              "      <td>2039</td>\n",
              "      <td>uniqueid_947</td>\n",
              "      <td>No</td>\n",
              "      <td>Rural</td>\n",
              "      <td>Yes</td>\n",
              "      <td>3.0</td>\n",
              "      <td>24.0</td>\n",
              "      <td>Female</td>\n",
              "      <td>Spouse</td>\n",
              "      <td>Married/Living together</td>\n",
              "      <td>Primary education</td>\n",
              "      <td>Informally employed</td>\n",
              "    </tr>\n",
              "  </tbody>\n",
              "</table>\n",
              "</div>"
            ],
            "text/plain": [
              "     country  year  ...  Level of Educuation                Type of Job\n",
              "213    Kenya  2029  ...  Secondary education       Remittance Dependent\n",
              "308    Kenya  2056  ...   Tertiary education  Formally employed Private\n",
              "7014  Rwanda  2039  ...    Primary education        Informally employed\n",
              "\n",
              "[3 rows x 13 columns]"
            ]
          },
          "metadata": {},
          "execution_count": 9
        }
      ]
    },
    {
      "cell_type": "code",
      "metadata": {
        "id": "8OVemrgHftLL"
      },
      "source": [
        "# Since the Kenyan survey was done in 2018 and Rwandan in 2016 we can correct the anomalies\n",
        "fin.iloc[213, 1] = 2018\n",
        "fin.iloc[308, 1] = 2018\n",
        "fin.iloc[7014, 1] = 2016"
      ],
      "execution_count": 10,
      "outputs": []
    },
    {
      "cell_type": "code",
      "metadata": {
        "colab": {
          "base_uri": "https://localhost:8080/"
        },
        "id": "arE3tX3CupTq",
        "outputId": "6450e3c6-e47c-423b-e131-d551c093f73b"
      },
      "source": [
        "# To see if it worked\n",
        "fin['year'].unique()"
      ],
      "execution_count": 11,
      "outputs": [
        {
          "output_type": "execute_result",
          "data": {
            "text/plain": [
              "array([2018, 2016, 2017])"
            ]
          },
          "metadata": {},
          "execution_count": 11
        }
      ]
    },
    {
      "cell_type": "code",
      "metadata": {
        "colab": {
          "base_uri": "https://localhost:8080/"
        },
        "id": "_Sxdi-2pfVch",
        "outputId": "027ea3c7-bfc4-4c5b-ac95-950492044af5"
      },
      "source": [
        "# Has a bank account should be yes or no\n",
        "fin['Has a Bank account'].unique()"
      ],
      "execution_count": 12,
      "outputs": [
        {
          "output_type": "execute_result",
          "data": {
            "text/plain": [
              "array(['Yes', 'No', nan], dtype=object)"
            ]
          },
          "metadata": {},
          "execution_count": 12
        }
      ]
    },
    {
      "cell_type": "code",
      "metadata": {
        "colab": {
          "base_uri": "https://localhost:8080/"
        },
        "id": "L4qZZIgIvSi3",
        "outputId": "72fc1759-ff32-4802-e73f-7c3c03ca7c57"
      },
      "source": [
        "# Type of location - rural or urban\n",
        "fin['Type of Location'].unique()"
      ],
      "execution_count": 13,
      "outputs": [
        {
          "output_type": "execute_result",
          "data": {
            "text/plain": [
              "array(['Rural', 'Urban', nan], dtype=object)"
            ]
          },
          "metadata": {},
          "execution_count": 13
        }
      ]
    },
    {
      "cell_type": "code",
      "metadata": {
        "colab": {
          "base_uri": "https://localhost:8080/"
        },
        "id": "fhbNt4DovoGB",
        "outputId": "a0dd49ad-9c5c-4276-f69e-6d9841ed9f3b"
      },
      "source": [
        "# Cell Phone Access - yes or no\n",
        "fin['Cell Phone Access'].unique()"
      ],
      "execution_count": 14,
      "outputs": [
        {
          "output_type": "execute_result",
          "data": {
            "text/plain": [
              "array(['Yes', 'No', nan], dtype=object)"
            ]
          },
          "metadata": {},
          "execution_count": 14
        }
      ]
    },
    {
      "cell_type": "code",
      "metadata": {
        "colab": {
          "base_uri": "https://localhost:8080/"
        },
        "id": "cl7jzBPgwEQU",
        "outputId": "0ce3fa62-0320-4ec8-e190-1252c5678bbf"
      },
      "source": [
        "# gender_of_respondent - male or female\n",
        "fin['gender_of_respondent'].unique()"
      ],
      "execution_count": 15,
      "outputs": [
        {
          "output_type": "execute_result",
          "data": {
            "text/plain": [
              "array(['Female', 'Male', nan], dtype=object)"
            ]
          },
          "metadata": {},
          "execution_count": 15
        }
      ]
    },
    {
      "cell_type": "code",
      "metadata": {
        "colab": {
          "base_uri": "https://localhost:8080/"
        },
        "id": "n2FDuFBRwbsE",
        "outputId": "d4e9552c-44f1-4a39-9e8c-95b18e768842"
      },
      "source": [
        "# The relathip with head - Head of Household, Spouse, Child, Parent, Other relative, Other non-relatives, Dont know\n",
        "fin['The relathip with head'].unique()\n",
        "\n",
        "# We will assume that the nan values are \"Don't know\" which we will fill when dealing with missing values"
      ],
      "execution_count": 16,
      "outputs": [
        {
          "output_type": "execute_result",
          "data": {
            "text/plain": [
              "array(['Spouse', 'Head of Household', 'Other relative', 'Child', 'Parent',\n",
              "       'Other non-relatives', nan], dtype=object)"
            ]
          },
          "metadata": {},
          "execution_count": 16
        }
      ]
    },
    {
      "cell_type": "code",
      "metadata": {
        "colab": {
          "base_uri": "https://localhost:8080/"
        },
        "id": "KdKlP6MWxMd2",
        "outputId": "948ece02-b6c7-4ca7-c017-40c0160650e3"
      },
      "source": [
        "# marital_status - Married/Living together, Divorced/Seperated, Widowed, Single/Never Married, Don't know\n",
        "fin['marital_status'].unique()"
      ],
      "execution_count": 17,
      "outputs": [
        {
          "output_type": "execute_result",
          "data": {
            "text/plain": [
              "array(['Married/Living together', 'Widowed', 'Single/Never Married',\n",
              "       'Divorced/Seperated', 'Dont know', nan], dtype=object)"
            ]
          },
          "metadata": {},
          "execution_count": 17
        }
      ]
    },
    {
      "cell_type": "code",
      "metadata": {
        "colab": {
          "base_uri": "https://localhost:8080/"
        },
        "id": "USk_ZkW8xscz",
        "outputId": "07576cd2-6e9d-44b5-e65b-61a92650306a"
      },
      "source": [
        "# Level of Educuation -  No formal education, Primary education, Secondary education, Vocational/Specialised training, Tertiary education, Other/Dont know/RTA\n",
        "fin['Level of Educuation'].unique()"
      ],
      "execution_count": 18,
      "outputs": [
        {
          "output_type": "execute_result",
          "data": {
            "text/plain": [
              "array(['Secondary education', 'No formal education',\n",
              "       'Vocational/Specialised training', 'Primary education',\n",
              "       'Tertiary education', 'Other/Dont know/RTA', '6', nan],\n",
              "      dtype=object)"
            ]
          },
          "metadata": {},
          "execution_count": 18
        }
      ]
    },
    {
      "cell_type": "code",
      "metadata": {
        "id": "WeEMJ_pIyQyA"
      },
      "source": [
        "# There is an unexpected category '6' which we shall assume is class 6 meaning the highest level of education is primary\n",
        "#\n",
        "# Making a list of indices with level of education as '6'\n",
        "x = list(fin[fin['Level of Educuation'] == '6'].index.values)\n",
        "\n",
        "# Correcting '6' to 'Primary education'\n",
        "for a in x:\n",
        "  fin.iloc[a, 11] = 'Primary education'"
      ],
      "execution_count": 19,
      "outputs": []
    },
    {
      "cell_type": "code",
      "metadata": {
        "colab": {
          "base_uri": "https://localhost:8080/"
        },
        "id": "QZiaNdS-1vtD",
        "outputId": "b84b0c1b-8142-4fc1-a44f-5b321aa33884"
      },
      "source": [
        "# To see if it worked\n",
        "fin['Level of Educuation'].unique()"
      ],
      "execution_count": 20,
      "outputs": [
        {
          "output_type": "execute_result",
          "data": {
            "text/plain": [
              "array(['Secondary education', 'No formal education',\n",
              "       'Vocational/Specialised training', 'Primary education',\n",
              "       'Tertiary education', 'Other/Dont know/RTA', nan], dtype=object)"
            ]
          },
          "metadata": {},
          "execution_count": 20
        }
      ]
    },
    {
      "cell_type": "code",
      "metadata": {
        "colab": {
          "base_uri": "https://localhost:8080/"
        },
        "id": "pmKG5Lpu18Zx",
        "outputId": "337d326f-8a27-449c-d434-6d3297a4e880"
      },
      "source": [
        "# Type of Job - Farming and Fishing, Self employed, Formally employed Government, Formally employed Private, Informally employed,\n",
        "# Remittance Dependent, Government Dependent, Other Income, No Income, Dont Know/Refuse to answer\n",
        "fin['Type of Job'].unique()"
      ],
      "execution_count": 21,
      "outputs": [
        {
          "output_type": "execute_result",
          "data": {
            "text/plain": [
              "array(['Self employed', 'Government Dependent',\n",
              "       'Formally employed Private', 'Informally employed',\n",
              "       'Formally employed Government', 'Farming and Fishing',\n",
              "       'Remittance Dependent', 'Other Income',\n",
              "       'Dont Know/Refuse to answer', nan, 'No Income'], dtype=object)"
            ]
          },
          "metadata": {},
          "execution_count": 21
        }
      ]
    },
    {
      "cell_type": "code",
      "metadata": {
        "colab": {
          "base_uri": "https://localhost:8080/",
          "height": 418
        },
        "id": "pADfke072gbn",
        "outputId": "2709a49c-bdba-4bf5-ef3a-71942629260b"
      },
      "source": [
        "# We will use box plots to spot anomalies/outliers in household_size and Respondent Age\n",
        "fig, (ax1, ax2) = plt.subplots(1, 2, figsize = (10, 6))\n",
        "fig.suptitle(\"Boxplots\")\n",
        "fin.boxplot(['household_size'], ax=ax1)\n",
        "fin.boxplot(['Respondent Age'], ax=ax2)\n",
        "plt.show()\n",
        "\n",
        "# The outliers are not outrageous therefore there are no anomalies in household_size and Respondent Age"
      ],
      "execution_count": 22,
      "outputs": [
        {
          "output_type": "display_data",
          "data": {
            "image/png": "[encoded data removed]",
            "text/plain": [
              "<Figure size 720x432 with 2 Axes>"
            ]
          },
          "metadata": {
            "needs_background": "light"
          }
        }
      ]
    },
    {
      "cell_type": "markdown",
      "metadata": {
        "id": "-cKfGumc53WL"
      },
      "source": [
        "b.) Dealing with missing values"
      ]
    },
    {
      "cell_type": "code",
      "metadata": {
        "colab": {
          "base_uri": "https://localhost:8080/"
        },
        "id": "LiJ6KM2N52t1",
        "outputId": "0c666e2b-eaf3-40e1-d1ee-943e84c4a483"
      },
      "source": [
        "# Checking if there are missing values\n",
        "fin.isnull().any()"
      ],
      "execution_count": 23,
      "outputs": [
        {
          "output_type": "execute_result",
          "data": {
            "text/plain": [
              "country                    True\n",
              "year                      False\n",
              "uniqueid                  False\n",
              "Has a Bank account         True\n",
              "Type of Location           True\n",
              "Cell Phone Access          True\n",
              "household_size             True\n",
              "Respondent Age             True\n",
              "gender_of_respondent       True\n",
              "The relathip with head     True\n",
              "marital_status             True\n",
              "Level of Educuation        True\n",
              "Type of Job                True\n",
              "dtype: bool"
            ]
          },
          "metadata": {},
          "execution_count": 23
        }
      ]
    },
    {
      "cell_type": "code",
      "metadata": {
        "id": "DZ4Q09vVUqqj"
      },
      "source": [
        "# As mentioned earlier we will fill nan values in relathip with head as \"Don't know\"\n",
        "fin['The relathip with head'].fillna(\"Don't know\", inplace = True)"
      ],
      "execution_count": 24,
      "outputs": []
    },
    {
      "cell_type": "code",
      "metadata": {
        "colab": {
          "base_uri": "https://localhost:8080/"
        },
        "id": "Yz2SrC7fWk-g",
        "outputId": "0fc8729e-018c-49dc-ccbe-91071d20d9ef"
      },
      "source": [
        "# To see if it worked\n",
        "fin['The relathip with head'].isnull().any()"
      ],
      "execution_count": 25,
      "outputs": [
        {
          "output_type": "execute_result",
          "data": {
            "text/plain": [
              "False"
            ]
          },
          "metadata": {},
          "execution_count": 25
        }
      ]
    },
    {
      "cell_type": "code",
      "metadata": {
        "colab": {
          "base_uri": "https://localhost:8080/"
        },
        "id": "wVT5AiA67PeD",
        "outputId": "28819563-585b-40fe-bf94-643df3be917d"
      },
      "source": [
        "# We will need complete data for all the columns so we will drop the rest of the records with nan values\n",
        "fin.dropna(axis = 0, how = 'any', inplace = True)\n",
        "\n",
        "# Determining the no. of records in our dataset\n",
        "fin.shape"
      ],
      "execution_count": 26,
      "outputs": [
        {
          "output_type": "execute_result",
          "data": {
            "text/plain": [
              "(23343, 13)"
            ]
          },
          "metadata": {},
          "execution_count": 26
        }
      ]
    },
    {
      "cell_type": "markdown",
      "metadata": {
        "id": "LWtFGfrf9O8h"
      },
      "source": [
        "c.) Dealing with duplicates"
      ]
    },
    {
      "cell_type": "code",
      "metadata": {
        "colab": {
          "base_uri": "https://localhost:8080/"
        },
        "id": "Pw9DqKWJ9Lqg",
        "outputId": "88f26e6c-e2db-4364-b0b1-58d559d5f42d"
      },
      "source": [
        "# Checking for duplicated records\n",
        "fin.duplicated().any()"
      ],
      "execution_count": 27,
      "outputs": [
        {
          "output_type": "execute_result",
          "data": {
            "text/plain": [
              "False"
            ]
          },
          "metadata": {},
          "execution_count": 27
        }
      ]
    },
    {
      "cell_type": "markdown",
      "metadata": {
        "id": "GdamlUfA_8Xz"
      },
      "source": [
        "# Implementing the Solution"
      ]
    },
    {
      "cell_type": "markdown",
      "metadata": {
        "id": "_82XcoKoABUg"
      },
      "source": [
        "## a.) Univariate Analysis"
      ]
    },
    {
      "cell_type": "code",
      "metadata": {
        "colab": {
          "base_uri": "https://localhost:8080/",
          "height": 274
        },
        "id": "099fe1NKANgy",
        "outputId": "4771eaa6-5b10-48c6-ee0c-412091b98a44"
      },
      "source": [
        "# Creating pie charts to visualize their distribution per category\n",
        "fig, (ax1, ax2, ax3, ax4) = plt.subplots(1,4, figsize = (20,20))\n",
        "fin['Has a Bank account'].value_counts().plot(kind = 'pie', explode = (0.1,0), autopct='%1.1f%%', shadow=True, ax = ax1)\n",
        "fin['Type of Location'].value_counts().plot(kind = 'pie', autopct='%1.1f%%', shadow=True, ax = ax2)\n",
        "fin['Cell Phone Access'].value_counts().plot(kind = 'pie', autopct='%1.1f%%', shadow=True, ax = ax3)\n",
        "fin['gender_of_respondent'].value_counts().plot(kind = 'pie', autopct='%1.1f%%', shadow=True, ax = ax4)\n",
        "plt.show()"
      ],
      "execution_count": 28,
      "outputs": [
        {
          "output_type": "display_data",
          "data": {
            "image/png": "[encoded data removed]",
            "text/plain": [
              "<Figure size 1440x1440 with 4 Axes>"
            ]
          },
          "metadata": {}
        }
      ]
    },
    {
      "cell_type": "markdown",
      "metadata": {
        "id": "XAqwTqeNG0Va"
      },
      "source": [
        "From the pie charts above:\n",
        "* Only 14.1% of our respondents have bank accounts\n",
        "* Most of repondents are in rural locations (61.1%) as opposed to urban (38.9%)\n",
        "* About a quarter of our respondents have access to cell phones\n",
        "* 59% of our respondents are female and males 41%"
      ]
    },
    {
      "cell_type": "code",
      "metadata": {
        "id": "3IeOH9tENpmg"
      },
      "source": [
        "# Creating a function for setting a title, xlabel and ylabel\n",
        "def chart_elements(title, xlabel, ylabel):\n",
        "  plt.title(title)\n",
        "  plt.xlabel(xlabel)\n",
        "  plt.ylabel(ylabel)\n",
        "  return plt.show()"
      ],
      "execution_count": 29,
      "outputs": []
    },
    {
      "cell_type": "code",
      "metadata": {
        "colab": {
          "base_uri": "https://localhost:8080/",
          "height": 329
        },
        "id": "CFy3hCqlG1Kg",
        "outputId": "87823818-271e-4520-e869-7433d0617770"
      },
      "source": [
        "# Plotting a bar chart to show the number of our respondents by country\n",
        "fin['country'].value_counts().plot(kind = 'bar', color = 'green')\n",
        "chart_elements('Number of respondents per country', 'Country', 'Number')"
      ],
      "execution_count": 30,
      "outputs": [
        {
          "output_type": "display_data",
          "data": {
            "image/png": "[encoded data removed]",
            "text/plain": [
              "<Figure size 432x288 with 1 Axes>"
            ]
          },
          "metadata": {
            "needs_background": "light"
          }
        }
      ]
    },
    {
      "cell_type": "code",
      "metadata": {
        "colab": {
          "base_uri": "https://localhost:8080/",
          "height": 382
        },
        "id": "gWwdltxJMz1l",
        "outputId": "bd7f4935-e21a-4cb4-af58-13ee69968241"
      },
      "source": [
        "# Plotting a bar chart to show the number of our respondents by relationship with head\n",
        "fin['The relathip with head'].value_counts().plot(kind = 'bar', color = 'green')\n",
        "chart_elements('Number of respondents per relationship with head', 'Relationship with head', 'Number')"
      ],
      "execution_count": 31,
      "outputs": [
        {
          "output_type": "display_data",
          "data": {
            "image/png": "[encoded data removed]",
            "text/plain": [
              "<Figure size 432x288 with 1 Axes>"
            ]
          },
          "metadata": {
            "needs_background": "light"
          }
        }
      ]
    },
    {
      "cell_type": "code",
      "metadata": {
        "colab": {
          "base_uri": "https://localhost:8080/",
          "height": 403
        },
        "id": "xPgKKhLaM2Mp",
        "outputId": "3b1da319-ea11-4e19-98b4-6cb3397c4029"
      },
      "source": [
        "# Plotting a bar chart to show the number of our respondents by marital status\n",
        "fin['marital_status'].value_counts().plot(kind = 'bar', color = 'green')\n",
        "chart_elements('Number of respondents per marital status', 'Marital Status', 'Number')"
      ],
      "execution_count": 32,
      "outputs": [
        {
          "output_type": "display_data",
          "data": {
            "image/png": "[encoded data removed]",
            "text/plain": [
              "<Figure size 432x288 with 1 Axes>"
            ]
          },
          "metadata": {
            "needs_background": "light"
          }
        }
      ]
    },
    {
      "cell_type": "code",
      "metadata": {
        "colab": {
          "base_uri": "https://localhost:8080/",
          "height": 439
        },
        "id": "ZlPlkvfyM4BX",
        "outputId": "49220c11-d83f-46e9-9bc6-72d5ac09f823"
      },
      "source": [
        "# Plotting a bar chart to show the number of our respondents by level of education\n",
        "fin['Level of Educuation'].value_counts().plot(kind = 'bar', color = 'green')\n",
        "chart_elements('Number of respondents per level of education', 'Level of Education', 'Number')"
      ],
      "execution_count": 33,
      "outputs": [
        {
          "output_type": "display_data",
          "data": {
            "image/png": "[encoded data removed]",
            "text/plain": [
              "<Figure size 432x288 with 1 Axes>"
            ]
          },
          "metadata": {
            "needs_background": "light"
          }
        }
      ]
    },
    {
      "cell_type": "code",
      "metadata": {
        "colab": {
          "base_uri": "https://localhost:8080/",
          "height": 446
        },
        "id": "98kIUxOPM5uJ",
        "outputId": "11e4b812-db4f-4e24-a4a0-db3a7c7a451b"
      },
      "source": [
        "# Plotting a bar chart to show the number of our respondents by type of job\n",
        "fin['Type of Job'].value_counts().plot(kind = 'bar', color = 'green')\n",
        "chart_elements('Number of respondents per type of job', 'Type of job', 'Number')"
      ],
      "execution_count": 34,
      "outputs": [
        {
          "output_type": "display_data",
          "data": {
            "image/png": "[encoded data removed]",
            "text/plain": [
              "<Figure size 432x288 with 1 Axes>"
            ]
          },
          "metadata": {
            "needs_background": "light"
          }
        }
      ]
    },
    {
      "cell_type": "code",
      "metadata": {
        "colab": {
          "base_uri": "https://localhost:8080/",
          "height": 514
        },
        "id": "K8vyhZvzREYM",
        "outputId": "3ede8581-8e97-4403-8d46-a70477c665ba"
      },
      "source": [
        "# Creating a histogram to see the distribution of respondents age and income\n",
        "fig, (ax1,ax2) = plt.subplots(2,1, figsize = (8,8))\n",
        "sns.histplot(fin, x=\"household_size\", bins = (0,2,4,6,8,10,12,14,16,18,20,22), ax = ax1)\n",
        "sns.histplot(fin, x=\"Respondent Age\", kde=True, ax = ax2)\n",
        "plt.plot()"
      ],
      "execution_count": 35,
      "outputs": [
        {
          "output_type": "execute_result",
          "data": {
            "text/plain": [
              "[]"
            ]
          },
          "metadata": {},
          "execution_count": 35
        },
        {
          "output_type": "display_data",
          "data": {
            "image/png": "[encoded data removed]",
            "text/plain": [
              "<Figure size 576x576 with 2 Axes>"
            ]
          },
          "metadata": {
            "needs_background": "light"
          }
        }
      ]
    },
    {
      "cell_type": "code",
      "metadata": {
        "colab": {
          "base_uri": "https://localhost:8080/",
          "height": 297
        },
        "id": "xFK5uGAerqig",
        "outputId": "5e8a2643-a6b7-4a2c-b71b-3c6bdd2d787b"
      },
      "source": [
        "# Descriptive statistics\n",
        "fin[['household_size','Respondent Age']].describe()"
      ],
      "execution_count": 76,
      "outputs": [
        {
          "output_type": "execute_result",
          "data": {
            "text/html": [
              "<div>\n",
              "<style scoped>\n",
              "    .dataframe tbody tr th:only-of-type {\n",
              "        vertical-align: middle;\n",
              "    }\n",
              "\n",
              "    .dataframe tbody tr th {\n",
              "        vertical-align: top;\n",
              "    }\n",
              "\n",
              "    .dataframe thead th {\n",
              "        text-align: right;\n",
              "    }\n",
              "</style>\n",
              "<table border=\"1\" class=\"dataframe\">\n",
              "  <thead>\n",
              "    <tr style=\"text-align: right;\">\n",
              "      <th></th>\n",
              "      <th>household_size</th>\n",
              "      <th>Respondent Age</th>\n",
              "    </tr>\n",
              "  </thead>\n",
              "  <tbody>\n",
              "    <tr>\n",
              "      <th>count</th>\n",
              "      <td>23343.000000</td>\n",
              "      <td>23343.000000</td>\n",
              "    </tr>\n",
              "    <tr>\n",
              "      <th>mean</th>\n",
              "      <td>3.688643</td>\n",
              "      <td>38.805509</td>\n",
              "    </tr>\n",
              "    <tr>\n",
              "      <th>std</th>\n",
              "      <td>2.281184</td>\n",
              "      <td>16.519803</td>\n",
              "    </tr>\n",
              "    <tr>\n",
              "      <th>min</th>\n",
              "      <td>0.000000</td>\n",
              "      <td>16.000000</td>\n",
              "    </tr>\n",
              "    <tr>\n",
              "      <th>25%</th>\n",
              "      <td>2.000000</td>\n",
              "      <td>26.000000</td>\n",
              "    </tr>\n",
              "    <tr>\n",
              "      <th>50%</th>\n",
              "      <td>3.000000</td>\n",
              "      <td>35.000000</td>\n",
              "    </tr>\n",
              "    <tr>\n",
              "      <th>75%</th>\n",
              "      <td>5.000000</td>\n",
              "      <td>49.000000</td>\n",
              "    </tr>\n",
              "    <tr>\n",
              "      <th>max</th>\n",
              "      <td>21.000000</td>\n",
              "      <td>100.000000</td>\n",
              "    </tr>\n",
              "  </tbody>\n",
              "</table>\n",
              "</div>"
            ],
            "text/plain": [
              "       household_size  Respondent Age\n",
              "count    23343.000000    23343.000000\n",
              "mean         3.688643       38.805509\n",
              "std          2.281184       16.519803\n",
              "min          0.000000       16.000000\n",
              "25%          2.000000       26.000000\n",
              "50%          3.000000       35.000000\n",
              "75%          5.000000       49.000000\n",
              "max         21.000000      100.000000"
            ]
          },
          "metadata": {},
          "execution_count": 76
        }
      ]
    },
    {
      "cell_type": "markdown",
      "metadata": {
        "id": "gQeBhISIVekE"
      },
      "source": [
        "## b.) Bivariate Analysis"
      ]
    },
    {
      "cell_type": "markdown",
      "metadata": {
        "id": "c8wTSX7eR1hq"
      },
      "source": [
        "Q1: What is the relationship between having a bank account and the country you come from?"
      ]
    },
    {
      "cell_type": "code",
      "metadata": {
        "id": "ISN4m2x-VnmT"
      },
      "source": [
        "# We will create a stacked column to find out\n",
        "# We need to create a new dataframe with the information we want in a form that we can visualize\n",
        "# First let us separate our dataset into two groups: those with bank accounts and those without\n",
        "yes = fin[fin['Has a Bank account'] == 'Yes']\n",
        "no = fin[fin['Has a Bank account'] == 'No']"
      ],
      "execution_count": 36,
      "outputs": []
    },
    {
      "cell_type": "code",
      "metadata": {
        "colab": {
          "base_uri": "https://localhost:8080/",
          "height": 438
        },
        "id": "oOAGhr-HHI3Y",
        "outputId": "6738e461-0c36-43ea-d703-6d85e0d70e57"
      },
      "source": [
        "# Grouping the two groups by country to find out the number of people with and without bank accounts\n",
        "country_yes = yes.groupby('country').count()['Has a Bank account'].to_frame().reset_index()\n",
        "country_no = no.groupby('country').count()['Has a Bank account'].to_frame().reset_index()\n",
        "#\n",
        "# Merging the datasets to create our required dataframe\n",
        "country_merge = country_yes.merge(country_no, on = \"country\", how = \"inner\")\n",
        "#\n",
        "# Changing the column names\n",
        "country_merge.columns = ['Country', 'Yes', 'No']\n",
        "#\n",
        "# Creating a new column for total\n",
        "country_merge['Total'] = country_merge['Yes'] + country_merge['No']\n",
        "#\n",
        "# Creating new columns for percentage yes or no\n",
        "country_merge['Yes_percentage'] = (country_merge['Yes'] / country_merge['Total']) * 100\n",
        "country_merge['No_percentage'] = (country_merge['No'] / country_merge['Total']) * 100\n",
        "\n",
        "# Setting 'Country' as our index to make visualization easier\n",
        "country_merge.set_index('Country', inplace = True)\n",
        "\n",
        "# Plotting our stacked bar chart\n",
        "country_merge[['Yes_percentage', 'No_percentage']].plot(kind = 'bar', stacked = True, figsize = (8,6))\n",
        "chart_elements('Has bank account vs Country', 'Country', 'Percentage')"
      ],
      "execution_count": 42,
      "outputs": [
        {
          "output_type": "display_data",
          "data": {
            "image/png": "[encoded data removed]",
            "text/plain": [
              "<Figure size 576x432 with 1 Axes>"
            ]
          },
          "metadata": {
            "needs_background": "light"
          }
        }
      ]
    },
    {
      "cell_type": "markdown",
      "metadata": {
        "id": "N3RFmywEjIR7"
      },
      "source": [
        "Interpretation: Kenya has the largest proportion of people with bank accounts compared to the other countries"
      ]
    },
    {
      "cell_type": "markdown",
      "metadata": {
        "id": "epOHYxS1Epx8"
      },
      "source": [
        "Q2: What about location type?"
      ]
    },
    {
      "cell_type": "code",
      "metadata": {
        "id": "MFtSyywsNFz_"
      },
      "source": [
        "# Creating a function since we will follow the same procedure with other categorical variables\n",
        "def stacked(column):\n",
        "  # Grouping the two groups by \"column\" to find out the number of people with and without bank accounts\n",
        "  df_yes = yes.groupby(column).count()['Has a Bank account'].to_frame().reset_index()\n",
        "  df_no = no.groupby(column).count()['Has a Bank account'].to_frame().reset_index()\n",
        "  \n",
        "  # Merging the datasets to create our required dataframe\n",
        "  df_merge = df_yes.merge(df_no, on = column, how = \"inner\")\n",
        "\n",
        "  #Changing the column names\n",
        "  df_merge.columns = [column, 'Yes', 'No']\n",
        "  #\n",
        "  # Creating a new column for total\n",
        "  df_merge['Total'] = df_merge['Yes'] + df_merge['No']\n",
        "  #\n",
        "  # Creating new columns for percentage yes or no\n",
        "  df_merge['Yes_percentage'] = (df_merge['Yes'] / df_merge['Total']) * 100\n",
        "  df_merge['No_percentage'] = (df_merge['No'] / df_merge['Total']) * 100\n",
        "\n",
        "  # Setting 'Country' as our index to make visualization easier\n",
        "  df_merge.set_index(column, inplace = True)\n",
        "  \n",
        "  # Plotting our stacked bar chart\n",
        "  df_merge[['Yes_percentage', 'No_percentage']].plot(kind = 'bar', stacked = True, figsize = (8,6))\n",
        "  chart_elements('Has a bank account vs ' + column, column, \"Percentage\")\n",
        "  return plt.show()"
      ],
      "execution_count": 43,
      "outputs": []
    },
    {
      "cell_type": "code",
      "metadata": {
        "colab": {
          "base_uri": "https://localhost:8080/",
          "height": 424
        },
        "id": "jajTbpU8YHD5",
        "outputId": "a251c322-356a-42ae-c5d5-983c60037368"
      },
      "source": [
        "# Using our function to create a stacked bar chart\n",
        "stacked('Type of Location')"
      ],
      "execution_count": 44,
      "outputs": [
        {
          "output_type": "display_data",
          "data": {
            "image/png": "[encoded data removed]",
            "text/plain": [
              "<Figure size 576x432 with 1 Axes>"
            ]
          },
          "metadata": {
            "needs_background": "light"
          }
        }
      ]
    },
    {
      "cell_type": "markdown",
      "metadata": {
        "id": "sPNNyrx1HcUM"
      },
      "source": [
        "Interpretation : Urban areas have a slightly larger proportion of people with bank accounts compared to rural areas"
      ]
    },
    {
      "cell_type": "markdown",
      "metadata": {
        "id": "uxJkbYzKHfLJ"
      },
      "source": [
        "Q3: Cell phone access? "
      ]
    },
    {
      "cell_type": "code",
      "metadata": {
        "colab": {
          "base_uri": "https://localhost:8080/",
          "height": 410
        },
        "id": "yw8FgvrMPO0D",
        "outputId": "a012856b-9b38-471f-a421-209a9abd5597"
      },
      "source": [
        "stacked('Cell Phone Access')"
      ],
      "execution_count": 45,
      "outputs": [
        {
          "output_type": "display_data",
          "data": {
            "image/png": "[encoded data removed]",
            "text/plain": [
              "<Figure size 576x432 with 1 Axes>"
            ]
          },
          "metadata": {
            "needs_background": "light"
          }
        }
      ]
    },
    {
      "cell_type": "markdown",
      "metadata": {
        "id": "uHN2n8UQI5-l"
      },
      "source": [
        "Interpretation : Respondents with cell phone access have a higher percentage of people with a bank account compared to those without internet access"
      ]
    },
    {
      "cell_type": "markdown",
      "metadata": {
        "id": "LTfE4vdSI9a5"
      },
      "source": [
        "Q4: What about gender?"
      ]
    },
    {
      "cell_type": "code",
      "metadata": {
        "colab": {
          "base_uri": "https://localhost:8080/",
          "height": 431
        },
        "id": "yJxOH0lDPZi6",
        "outputId": "ac41a579-4d78-4b8a-caa7-a9491c649702"
      },
      "source": [
        "stacked('gender_of_respondent')"
      ],
      "execution_count": 46,
      "outputs": [
        {
          "output_type": "display_data",
          "data": {
            "image/png": "[encoded data removed]",
            "text/plain": [
              "<Figure size 576x432 with 1 Axes>"
            ]
          },
          "metadata": {
            "needs_background": "light"
          }
        }
      ]
    },
    {
      "cell_type": "markdown",
      "metadata": {
        "id": "mgoS6145u01b"
      },
      "source": [
        "Interpretation: Males have a higher percentage of people with bank accounts than females"
      ]
    },
    {
      "cell_type": "markdown",
      "metadata": {
        "id": "nkpBOpsrTmfW"
      },
      "source": [
        "Q5: Relationship with the head of family?"
      ]
    },
    {
      "cell_type": "code",
      "metadata": {
        "colab": {
          "base_uri": "https://localhost:8080/",
          "height": 491
        },
        "id": "h8lZw54lTf46",
        "outputId": "f59a2cf9-92b4-4675-f223-a8e75f4ac544"
      },
      "source": [
        "stacked('The relathip with head')"
      ],
      "execution_count": 47,
      "outputs": [
        {
          "output_type": "display_data",
          "data": {
            "image/png": "[encoded data removed]",
            "text/plain": [
              "<Figure size 576x432 with 1 Axes>"
            ]
          },
          "metadata": {
            "needs_background": "light"
          }
        }
      ]
    },
    {
      "cell_type": "markdown",
      "metadata": {
        "id": "c3JeKjmVvFMJ"
      },
      "source": [
        "Interpretation: Heads of household have a greater share of people with bank accounts compared to the others"
      ]
    },
    {
      "cell_type": "markdown",
      "metadata": {
        "id": "YnfEa4VDUISS"
      },
      "source": [
        "Q6: Marital status?"
      ]
    },
    {
      "cell_type": "code",
      "metadata": {
        "colab": {
          "base_uri": "https://localhost:8080/",
          "height": 512
        },
        "id": "aJ7X4dDgUZT8",
        "outputId": "e45eecf8-b900-445e-ab47-82bcd91d8579"
      },
      "source": [
        "stacked('marital_status')"
      ],
      "execution_count": 48,
      "outputs": [
        {
          "output_type": "display_data",
          "data": {
            "image/png": "[encoded data removed]",
            "text/plain": [
              "<Figure size 576x432 with 1 Axes>"
            ]
          },
          "metadata": {
            "needs_background": "light"
          }
        }
      ]
    },
    {
      "cell_type": "markdown",
      "metadata": {
        "id": "H0gBD2jQvpeI"
      },
      "source": [
        "Interpretation: A slightly greater proportion of people who don't know their marital status have access to bank accounts compared to others"
      ]
    },
    {
      "cell_type": "markdown",
      "metadata": {
        "id": "JFVG50OcYzy0"
      },
      "source": [
        "Q7: Level of education"
      ]
    },
    {
      "cell_type": "code",
      "metadata": {
        "colab": {
          "base_uri": "https://localhost:8080/",
          "height": 548
        },
        "id": "meKwiVTCY6hZ",
        "outputId": "24b189e5-1262-46d1-b490-6bc459e17866"
      },
      "source": [
        "stacked('Level of Educuation')"
      ],
      "execution_count": 49,
      "outputs": [
        {
          "output_type": "display_data",
          "data": {
            "image/png": "[encoded data removed]",
            "text/plain": [
              "<Figure size 576x432 with 1 Axes>"
            ]
          },
          "metadata": {
            "needs_background": "light"
          }
        }
      ]
    },
    {
      "cell_type": "markdown",
      "metadata": {
        "id": "ivVZdz_kUsWD"
      },
      "source": [
        "Interpretation: A greater proportion of respondets with bank accounts have post secondary education"
      ]
    },
    {
      "cell_type": "markdown",
      "metadata": {
        "id": "rk-89dzAZOD3"
      },
      "source": [
        "Q8: Type of job?"
      ]
    },
    {
      "cell_type": "code",
      "metadata": {
        "colab": {
          "base_uri": "https://localhost:8080/",
          "height": 554
        },
        "id": "id7fgAUzZUec",
        "outputId": "0c8407d2-9076-4d8b-8f5f-653a9d2bc51d"
      },
      "source": [
        "stacked('Type of Job')"
      ],
      "execution_count": 50,
      "outputs": [
        {
          "output_type": "display_data",
          "data": {
            "image/png": "[encoded data removed]",
            "text/plain": [
              "<Figure size 576x432 with 1 Axes>"
            ]
          },
          "metadata": {
            "needs_background": "light"
          }
        }
      ]
    },
    {
      "cell_type": "markdown",
      "metadata": {
        "id": "paTDR1nZwfqz"
      },
      "source": [
        "Interpretation: A greater percentange of respondents that have bank accounts are formally employed by government compared to other job types"
      ]
    },
    {
      "cell_type": "markdown",
      "metadata": {
        "id": "ZGq9APlsjYVF"
      },
      "source": [
        "Q9 : Can age determine if one has acccess to a bank account or not?"
      ]
    },
    {
      "cell_type": "code",
      "metadata": {
        "colab": {
          "base_uri": "https://localhost:8080/"
        },
        "id": "u2kjrFvbn7Bu",
        "outputId": "9bcbb45d-4751-4cf5-8e3d-4e45fbbc2fa3"
      },
      "source": [
        "# We will used the two datasets we split by access yo bank account\n",
        "# Looking at the shape of our two groups\n",
        "print(yes.shape, no.shape)"
      ],
      "execution_count": 51,
      "outputs": [
        {
          "output_type": "stream",
          "name": "stdout",
          "text": [
            "(3297, 13) (20046, 13)\n"
          ]
        }
      ]
    },
    {
      "cell_type": "code",
      "metadata": {
        "id": "0Lgn7LQwoL2P"
      },
      "source": [
        "# As shown above the number of people without bank accounts are more than those with bank accounts\n",
        "# This might affect our analysis so we will draw a random sample of 2500 people from each group and use them \n",
        "yes_sample = yes.sample(n = 2500)\n",
        "no_sample = no.sample(n = 2500)"
      ],
      "execution_count": 52,
      "outputs": []
    },
    {
      "cell_type": "code",
      "metadata": {
        "colab": {
          "base_uri": "https://localhost:8080/"
        },
        "id": "K3EN8DXvjvTV",
        "outputId": "9126c319-42aa-4f40-9d0a-961ddd18cc7d"
      },
      "source": [
        "# Let us find out the average age of people with bank accounts and people without bank accounts\n",
        "yes_sample['Respondent Age'].mean()\n",
        "#\n",
        "# The average age of people with bank accounts is 39.5\n",
        "#\n",
        "no_sample['Respondent Age'].mean()\n",
        "#\n",
        "# The average age of people without bank accounts is 38.8"
      ],
      "execution_count": 54,
      "outputs": [
        {
          "output_type": "execute_result",
          "data": {
            "text/plain": [
              "38.8572"
            ]
          },
          "metadata": {},
          "execution_count": 54
        }
      ]
    },
    {
      "cell_type": "markdown",
      "metadata": {
        "id": "-c7exd0DlSvh"
      },
      "source": [
        "So we could conclude that younger people are less likely to have bank accounts than older people but is this difference in age statistically significant?\n",
        "\n",
        "We will conduct a independent t-test to find out.\n",
        "\n",
        "Before the t-test can be conducted, the assumptions of the t-test need \n",
        "to be checked to see if the t-test results can be trusted. The data which we will use must meet those assumptions in order for the test results to be valid.\n",
        "1. The samples are independently and randomly drawn\n",
        "2. The distribution of the residuals between the two groups should follow the normal distribution\n",
        "3. The variances between the two groups are equal\n",
        "\n",
        "If any of these assumptions are violated then another test should be used."
      ]
    },
    {
      "cell_type": "code",
      "metadata": {
        "colab": {
          "base_uri": "https://localhost:8080/"
        },
        "id": "2dlntj7Pmbni",
        "outputId": "8d8ada77-9b21-4978-b425-6e8f710c4650"
      },
      "source": [
        "# Assumption one was met when we selected random samples from our dataframe\n",
        "# To test asummption two first we calculate the residuals between the groups \n",
        "# by subtracting the values of one group from the values of the other group.\n",
        "# \n",
        "# Resetting indices to avoid null values\n",
        "yes_sample = yes_sample.reset_index()\n",
        "no_sample = no_sample.reset_index()\n",
        "\n",
        "# Finding our residuals\n",
        "diff = yes_sample['Respondent Age'] - no_sample['Respondent Age']\n",
        "\n",
        "# We use the shapiro test to test whether the distribution of the residuals between the two groups follow the normal distribution\n",
        "# Null hypothesis : the data was drawn from a normal distribution.\n",
        "from scipy import stats\n",
        "stats.shapiro(diff)\n",
        "\n",
        "# The p value is less than 0.05 therefore we reject the null hypothesis and conclude that our residuals are not normally distributed"
      ],
      "execution_count": 55,
      "outputs": [
        {
          "output_type": "execute_result",
          "data": {
            "text/plain": [
              "(0.9986451268196106, 0.04129895567893982)"
            ]
          },
          "metadata": {},
          "execution_count": 55
        }
      ]
    },
    {
      "cell_type": "markdown",
      "metadata": {
        "id": "ryKeAv_bu-j3"
      },
      "source": [
        "Our sample failed one of the assumptions for a t test therefore we cannot tell if age is a significant factor in explaining whether someone has a bank account or not"
      ]
    },
    {
      "cell_type": "markdown",
      "metadata": {
        "id": "1g_4apG-htew"
      },
      "source": [
        "Q9: Household size?"
      ]
    },
    {
      "cell_type": "code",
      "metadata": {
        "colab": {
          "base_uri": "https://localhost:8080/"
        },
        "id": "QwNzW_mViGE_",
        "outputId": "4cba6f8a-89b2-417d-fae9-af0b4f5dbae8"
      },
      "source": [
        "# We will use the sample groups created earlier\n",
        "# What is average household size of respondents with a bank account?\n",
        "yes_sample['household_size'].mean()\n",
        "#\n",
        "# It is 4 (3.5392)\n",
        "# What is average household size of respondents without a bank account?\n",
        "no_sample['household_size'].mean()\n",
        "#\n",
        "# It is also 4 (3.6432)"
      ],
      "execution_count": 60,
      "outputs": [
        {
          "output_type": "execute_result",
          "data": {
            "text/plain": [
              "3.6432"
            ]
          },
          "metadata": {},
          "execution_count": 60
        }
      ]
    },
    {
      "cell_type": "markdown",
      "metadata": {
        "id": "HG5tEfn_jMvx"
      },
      "source": [
        "We could say that people with larger households are less likely to have a bank account.\n",
        "\n",
        "To test this we can conduct a independent t test as well but first we have to test that the assumptions have been met."
      ]
    },
    {
      "cell_type": "code",
      "metadata": {
        "colab": {
          "base_uri": "https://localhost:8080/"
        },
        "id": "sICOsiZxjxEU",
        "outputId": "5f3e6821-108a-4b42-faa3-58835d49cfe5"
      },
      "source": [
        "# Assumption one was met when we selected random samples from our dataframe\n",
        "# To test asummption two first we calculate the residuals between the groups \n",
        "# by subtracting the values of one group from the values of the other group.\n",
        "#\n",
        "# Finding our residuals\n",
        "diff1 = yes_sample['household_size'] - no_sample['household_size']\n",
        "\n",
        "# We use the shapiro test to test whether the distribution of the residuals between the two groups follow the normal distribution\n",
        "# Null hypothesis : the data was drawn from a normal distribution.\n",
        "#\n",
        "stats.shapiro(diff1)\n",
        "\n",
        "# The p value is less than 0.05 therefore we reject the null hypothesis and conclude that our residuals are not normally distributed"
      ],
      "execution_count": 64,
      "outputs": [
        {
          "output_type": "execute_result",
          "data": {
            "text/plain": [
              "(0.9793738722801208, 1.4167556621017295e-18)"
            ]
          },
          "metadata": {},
          "execution_count": 64
        }
      ]
    },
    {
      "cell_type": "markdown",
      "metadata": {
        "id": "8fm3cMVgkhsw"
      },
      "source": [
        "Our sample failed one of the assumptions for a t test therefore we cannot tell if household size is a significant factor in explaining whether someone has a bank account or not"
      ]
    },
    {
      "cell_type": "markdown",
      "metadata": {
        "id": "jmiGUvahvXUK"
      },
      "source": [
        "## c.) Multivariate Analysis\n",
        "We will use use discriminant analysis since our dependent variable \"Has access to Bank account\" is categorical"
      ]
    },
    {
      "cell_type": "code",
      "metadata": {
        "id": "mTYci5sbjoHV"
      },
      "source": [
        "# Dividing our dataset into features and corresponding labels\n",
        "X = fin.iloc[:, 6:8].values\n",
        "y = fin.iloc[:, 3:4].values"
      ],
      "execution_count": 65,
      "outputs": []
    },
    {
      "cell_type": "code",
      "metadata": {
        "id": "_G2ljjNN8Qbe"
      },
      "source": [
        "# Dividing the resultant dataset into training and test sets\n",
        "from sklearn.model_selection import train_test_split\n",
        "X_train, X_test, y_train, y_test = train_test_split(X, y, test_size=0.2, random_state=0)"
      ],
      "execution_count": 66,
      "outputs": []
    },
    {
      "cell_type": "code",
      "metadata": {
        "id": "L-XcWla99GTQ"
      },
      "source": [
        "# Performing feature scaling\n",
        "from sklearn.preprocessing import StandardScaler\n",
        "sc = StandardScaler()\n",
        "X_train = sc.fit_transform(X_train)\n",
        "X_test = sc.transform(X_test)"
      ],
      "execution_count": 67,
      "outputs": []
    },
    {
      "cell_type": "code",
      "metadata": {
        "id": "LTJ7dAQF9dvi"
      },
      "source": [
        "# Let us first perform LDA with one component\n",
        "from sklearn.discriminant_analysis import LinearDiscriminantAnalysis as LDA\n",
        "lda = LDA(n_components=1)\n",
        "X_train1 = lda.fit_transform(X_train, y_train.ravel())\n",
        "X_test1 = lda.transform(X_test)"
      ],
      "execution_count": 68,
      "outputs": []
    },
    {
      "cell_type": "code",
      "metadata": {
        "id": "vg5uDRkf_Nzt"
      },
      "source": [
        "# \n",
        "from sklearn.ensemble import RandomForestClassifier\n",
        "classifier = RandomForestClassifier(max_depth=2, random_state=0)\n",
        "classifier.fit(X_train1, y_train.ravel())\n",
        "y_pred = classifier.predict(X_test1)"
      ],
      "execution_count": 69,
      "outputs": []
    },
    {
      "cell_type": "code",
      "metadata": {
        "colab": {
          "base_uri": "https://localhost:8080/"
        },
        "id": "wmorBeyz_8qL",
        "outputId": "8d7b8383-9a08-46eb-90fb-261444f49115"
      },
      "source": [
        "# Evaluating the performance of our algorithm using a confusion matrix\n",
        "from sklearn.metrics import confusion_matrix\n",
        "from sklearn.metrics import accuracy_score\n",
        "\n",
        "cm = confusion_matrix(y_test, y_pred)\n",
        "print(cm)\n",
        "print('Accuracy is ' + str(accuracy_score(y_test, y_pred)))"
      ],
      "execution_count": 70,
      "outputs": [
        {
          "output_type": "stream",
          "name": "stdout",
          "text": [
            "[[4008    0]\n",
            " [ 661    0]]\n",
            "Accuracy is 0.8584279288926965\n"
          ]
        }
      ]
    },
    {
      "cell_type": "markdown",
      "metadata": {
        "id": "YdHO4T9LlXnS"
      },
      "source": [
        "Our algorithim predicted whether our respondents have a bank account or not with 85% accuracy which meets our success criteria we set earlier"
      ]
    },
    {
      "cell_type": "markdown",
      "metadata": {
        "id": "c4irBrQVngC8"
      },
      "source": [
        "# Challenging the solution"
      ]
    },
    {
      "cell_type": "markdown",
      "metadata": {
        "id": "xhUtSEU9oEbX"
      },
      "source": [
        "# Follow up questions"
      ]
    },
    {
      "cell_type": "markdown",
      "metadata": {
        "id": "w67V12G-oQAz"
      },
      "source": [
        "a.) Did we have the right data? Yes"
      ]
    },
    {
      "cell_type": "markdown",
      "metadata": {
        "id": "Mn9T9eNpoaaw"
      },
      "source": [
        "b.) Do we need other data to answer our question? No"
      ]
    },
    {
      "cell_type": "markdown",
      "metadata": {
        "id": "0AMxXKueokIh"
      },
      "source": [
        "c.) Did we have the right question? Yes"
      ]
    }
  ]
}